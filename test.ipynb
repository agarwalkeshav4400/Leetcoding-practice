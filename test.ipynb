{
 "cells": [
  {
   "cell_type": "markdown",
   "metadata": {},
   "source": [
    "# Berman Code Star Product"
   ]
  },
  {
   "cell_type": "markdown",
   "metadata": {},
   "source": [
    "## DecimaltoFn: \n",
    "Converting a decimal number into a n-th basis number"
   ]
  },
  {
   "cell_type": "code",
   "execution_count": 1,
   "metadata": {},
   "outputs": [
    {
     "name": "stdout",
     "output_type": "stream",
     "text": [
      "[1 0 0 1]\n"
     ]
    }
   ],
   "source": [
    "#Converting a decimal number into a n-th basis number\n",
    "#param: number to be converted, basis\n",
    "import numpy as np\n",
    "\n",
    "def decimalToFn(num,n):\n",
    "    ans = np.array([num%n],int)\n",
    "    if(num > n-1):\n",
    "\n",
    "        ans = np.concatenate((decimalToFn(num//n,n),ans))\n",
    "    return ans\n",
    "#Testing the code output\n",
    "print(decimalToFn(126,5))"
   ]
  },
  {
   "cell_type": "markdown",
   "metadata": {},
   "source": [
    "## FntoDecimal:\n",
    "Converting the n-th basis vector to a decimal number"
   ]
  },
  {
   "cell_type": "code",
   "execution_count": 2,
   "metadata": {},
   "outputs": [],
   "source": [
    "#Converting the n-th basis vector to a decimal number\n",
    "#param: vector containing the decimal number in the n-th basis form, basis value\n",
    "def FnToDecimal(vec,n):\n",
    "    ans = 0\n",
    "    for i in range(0,len(vec)):\n",
    "        ans+= (vec[len(vec)-i-1]*(n**i))\n",
    "    return ans\n",
    "#vec = [2,2,2]\n",
    "#2.3^0 + 2*3^1 + 2*3^2 = 26\n",
    "#print(FnToDecimal(vec,3))"
   ]
  },
  {
   "cell_type": "markdown",
   "metadata": {},
   "source": [
    "## Hweight: \n",
    "Finding the hamming weight of a vector\n",
    "\n",
    "Finding the number of non zero positions in a vector"
   ]
  },
  {
   "cell_type": "code",
   "execution_count": 3,
   "metadata": {},
   "outputs": [],
   "source": [
    "#Finding the hamming weight of a vector\n",
    "#Finding the number of non zero positions in a vector\n",
    "#param: Vector containing some zero positions and some non zero positions\n",
    "def Hweight(vec):\n",
    "    #ans = no of non zero positions in a vector\n",
    "    ans = 0\n",
    "    n = len(vec)\n",
    "    \n",
    "    #supportVec vector: Returns a list of positions from vec which are non zero. Initialized to -1 (assuming the vec has no non zero values in it)\n",
    "    supp = np.array([-1])\n",
    "    suppInv = np.array([-1])\n",
    "    #k1, k2 are flag variables which tells us if the corresponding return array is empty\n",
    "    k1 = 0 #flag for supp vector\n",
    "    k2 = 0 #flag for suppInv vector\n",
    "    for i in range(0,n):\n",
    "        if(vec[i]!=0):\n",
    "            ans+=1\n",
    "            #If nothing has been added to the array, change flag big and add position into res list\n",
    "            if(k1==0):\n",
    "                k1=1\n",
    "                supp = np.array([i])\n",
    "            else :\n",
    "                supp = np.concatenate([supp,np.array([i])])\n",
    "        else:\n",
    "            if(k2==0):\n",
    "                k2=1\n",
    "                suppInv = np.array([i])\n",
    "            else:\n",
    "                suppInv = np.concatenate([suppInv,np.array([i])])\n",
    "    return ans,supp, suppInv\n",
    "# print(Hweight([1,1,1,1,2,2]))"
   ]
  },
  {
   "cell_type": "markdown",
   "metadata": {},
   "source": [
    "## vectorSubset:\n",
    "\n",
    "Given a vector j, we are finding all those i for which i<=j (Berman codes definition of vecotrs i,j such that i<=j)"
   ]
  },
  {
   "cell_type": "code",
   "execution_count": 4,
   "metadata": {},
   "outputs": [],
   "source": [
    "#Given a vector j, we are finding all those i for which i<=j (Berman codes definition of vecotrs i,j such that i<=j)\n",
    "#Param: input vec \n",
    "def vectorSubset(vec):\n",
    "    m = len(vec)\n",
    "    wt,supp,suppInv = Hweight(vec)\n",
    "    #if the vector has no weight, then return all zero vector\n",
    "    if(wt==0):\n",
    "        #Shape of the array is 1 x M (2-D array of 1 row and M colums), data type is int\n",
    "        return np.zeros([1, m],int)\n",
    "    else:\n",
    "        #Shape of the array is 2**wt x M (2-D array of 2**wt row and M colums), data type is int\n",
    "        ans = np.empty([2**wt,m],int)\n",
    "        for i in range(0,2**wt):\n",
    "            #Convert the number i to binary to know which numbers from the support set are included in the subvector\n",
    "            pos = decimalToFn(i,2)\n",
    "            #We are making every pos vector of the same size by padding zeros in the front of the already created pos vector\n",
    "            padSize = wt - len(pos)\n",
    "            pos = np.pad(pos,(padSize,0),'constant')\n",
    "\n",
    "            subVec = np.copy(vec)\n",
    "            #Here wt = len(pos)\n",
    "            for j in range(0,len(pos)):\n",
    "                #Zero in pos vector indicate that we dont have to include those corresponding support elements of vec in the sub vector \n",
    "                if(pos[j]==0):\n",
    "                    subVec[supp[j]] = 0\n",
    "            ans[i,:] = subVec\n",
    "        return ans\n",
    "#print(vectorSubset([0,0, 2,1,3, 0]))"
   ]
  },
  {
   "cell_type": "markdown",
   "metadata": {},
   "source": [
    "## Starpro: \n",
    "Calculating the star product of 2 matrices"
   ]
  },
  {
   "cell_type": "code",
   "execution_count": 5,
   "metadata": {},
   "outputs": [],
   "source": [
    "#param b1: a 2D vector, b2: a 2D vector\n",
    "def starPro(b1,b2):\n",
    "    #checking if the code lengths are equal (shape[1] = no of columns)\n",
    "    if(b1.shape[1]!=b2.shape[1]):\n",
    "        return (-1*np.ones([1,b1.shape[1]],int))\n",
    "    # shape[0] = no of rows which is the dimension of the code\n",
    "    len1 = b1.shape[0]\n",
    "    len2 = b2.shape[0]\n",
    "    if(len1==0 or len2==0):\n",
    "        return np.zeros([1,b1.shape[1]])\n",
    "    \n",
    "    ans = np.empty([len1*len2,b1.shape[1]],int)\n",
    "    \n",
    "    for i in range(0,len1):\n",
    "        for j in range(0,len2):\n",
    "            a = np.array(b1[i,:])\n",
    "            b = np.array(b2[j,:])\n",
    "            ans[i*len2+j,:] = (a*b)\n",
    "        \n",
    "    return ans\n",
    "# a = np.array([[1,2,3,4,5]])\n",
    "# b = np.array([[1,0,0,0,0]])\n",
    "# print(starPro(a,b))"
   ]
  },
  {
   "cell_type": "markdown",
   "metadata": {},
   "source": [
    "## basisBerman: \n",
    "Gives the generator matrix of Berman with the input parameters"
   ]
  },
  {
   "cell_type": "code",
   "execution_count": 6,
   "metadata": {},
   "outputs": [],
   "source": [
    "from math import factorial\n",
    "import itertools\n",
    "import numpy as np\n",
    "\n",
    "def basisBerman(n,m,r):\n",
    "    #Calculating the dimension of the Code\n",
    "    dim = 0\n",
    "    for w in range(r+1,m+1):\n",
    "        dim+= (factorial(m)/(factorial(w) * factorial(m-w))*(n-1)**w)\n",
    "    #Creating a basis matrix (Generator matrix)\n",
    "    basis = np.empty([int(dim),int(n**m)],int)\n",
    "    basisLen = 0\n",
    "    for i in range(0,n**m):\n",
    "        #making i into a m length vector in fn by padding\n",
    "        vec = decimalToFn(i,n)\n",
    "        padSize = m - len(vec)\n",
    "        vec = np.pad(vec,(padSize,0),'constant')\n",
    "        #We are looking for all those vectors whose support size is > r\n",
    "        if(Hweight(vec)[0]>=r+1):\n",
    "            #we are finding all the sub vectors of vec\n",
    "            sub = vectorSubset(vec)\n",
    "            #Finding the codeword corresponding to vec\n",
    "            arr = np.zeros(n**m,int)\n",
    "            #for each subvector of vec, we are setting its corresponding position in the codeword to 1\n",
    "            for j in range(0,sub.shape[0]):\n",
    "                i = FnToDecimal(sub[j,:],n)\n",
    "                arr[i] = 1\n",
    "            #we are updating its basis set\n",
    "            basis[basisLen,:] = arr\n",
    "            basisLen+=1\n",
    "    return basis\n",
    "\n"
   ]
  },
  {
   "cell_type": "code",
   "execution_count": 7,
   "metadata": {},
   "outputs": [
    {
     "name": "stdout",
     "output_type": "stream",
     "text": [
      "243\n",
      "rank is  243\n"
     ]
    }
   ],
   "source": [
    "import numpy as np\n",
    "n = 3\n",
    "m = 5\n",
    "\n",
    "basis1 = basisBerman(n,m,2)\n",
    "basis2 = basisBerman(n,m,0)\n",
    "\n",
    "print(basis1.shape[1])\n",
    "star = starPro(basis1,basis2)\n",
    "rank = np.linalg.matrix_rank(star)\n",
    "\n",
    "print(\"rank is \",rank)"
   ]
  },
  {
   "cell_type": "markdown",
   "metadata": {},
   "source": [
    "## vectorSuperSet"
   ]
  },
  {
   "cell_type": "markdown",
   "metadata": {},
   "source": [
    "Given a vector j, we are finding all those i for which j<=i (Berman codes definition of vecotrs i,j such that j<=i)"
   ]
  },
  {
   "cell_type": "code",
   "execution_count": 8,
   "metadata": {},
   "outputs": [
    {
     "name": "stdout",
     "output_type": "stream",
     "text": [
      "[[2 1 3]]\n"
     ]
    }
   ],
   "source": [
    "#Given a vector j, we are finding all those i for which j<=i (Berman codes definition of vecotrs i,j such that j<=i)\n",
    "#Param: input vec, n\n",
    "import numpy as np\n",
    "\n",
    "def vectorSuperSet(vec, n):\n",
    "    m = len(vec)\n",
    "    wt,supp, suppInv = Hweight(vec)\n",
    "    \n",
    "    #if the vector has full weight, then return the vector itself\n",
    "    if(wt==m):\n",
    "        #Shape of the array is 1 x M (2-D array of 1 row and M colums), data type is int\n",
    "        ans = np.zeros([1, m],int)\n",
    "        ans[0,:] = vec\n",
    "        return ans\n",
    "    else:\n",
    "        #Shape of the array is 2**wt x M (2-D array of 2**wt row and M colums), data type is int\n",
    "        ans = np.empty([n**(m-wt),m],int)\n",
    "        for i in range(0,n**(m-wt)):\n",
    "            #Convert the number i to Fn to know which numbers from Fn are there in the zero positions\n",
    "            pos = decimalToFn(i,n)\n",
    "            #We are making every pos vector of the same size by padding zeros in the front of the already created pos vector\n",
    "            padSize = (m - wt) - len(pos)\n",
    "            pos = np.pad(pos,(padSize,0),'constant')\n",
    "            \n",
    "            subVec = np.copy(vec)\n",
    "            #Here m-wt = len(pos)\n",
    "            for j in range(0,len(pos)):\n",
    "                subVec[suppInv[j]] = pos[j]\n",
    "            ans[i,:] = subVec\n",
    "        # print(ans.shape)\n",
    "        return ans\n",
    "print(vectorSuperSet([2,1,3], 4))"
   ]
  },
  {
   "cell_type": "code",
   "execution_count": 9,
   "metadata": {},
   "outputs": [],
   "source": [
    "from math import factorial\n",
    "import itertools\n",
    "import numpy as np\n",
    "\n",
    "def basisDualBerman(n,m,r):\n",
    "    #Calculating the dimension of the Code\n",
    "    dim = 0\n",
    "    for w in range(0, r+1):\n",
    "        dim+= (factorial(m)/(factorial(w) * factorial(m-w))*(n-1)**w)\n",
    "    #Creating a basis matrix (Generator matrix)\n",
    "    basis = np.empty([int(dim),int(n**m)],int)\n",
    "    basisLen = 0\n",
    "    for i in range(0,n**m):\n",
    "        #making i into a m length vector in fn by padding\n",
    "        vec = decimalToFn(i,n)\n",
    "        padSize = m - len(vec)\n",
    "        vec = np.pad(vec,(padSize,0),'constant')\n",
    "        #We are looking for all those vectors whose support size is <= r\n",
    "        if(Hweight(vec)[0]<=r):\n",
    "            #we are finding all the sub vectors of vec\n",
    "            sub = vectorSuperSet(vec, n)\n",
    "            #Finding the codeword corresponding to vec\n",
    "            arr = np.zeros(n**m,int)\n",
    "            #for each subvector of vec, we are setting its corresponding position in the codeword to 1\n",
    "            for j in range(0,sub.shape[0]):\n",
    "                i = FnToDecimal(sub[j,:],n)\n",
    "                arr[i] = 1\n",
    "            #we are updating its basis set\n",
    "            basis[basisLen,:] = arr\n",
    "            basisLen+=1\n",
    "    return dim,basis"
   ]
  },
  {
   "cell_type": "code",
   "execution_count": 31,
   "metadata": {},
   "outputs": [
    {
     "name": "stdout",
     "output_type": "stream",
     "text": [
      "1024\n",
      "rank is  376\n",
      "true\n"
     ]
    }
   ],
   "source": [
    "import numpy as np\n",
    "import sympy as sp \n",
    "\n",
    "n = 4\n",
    "m = 5\n",
    "\n",
    "basis1 = basisDualBerman(n,m,0)[1]\n",
    "basis2 = basisDualBerman(n,m,2)[1]\n",
    "basis3 = basisDualBerman(n,m,3)[1]\n",
    "print(basis1.shape[1])\n",
    "star = starPro(basis1,basis2)\n",
    "\n",
    "rank = np.linalg.matrix_rank(star)\n",
    "starsympy = sp.Matrix(star)\n",
    "basis3sympy = sp.Matrix(basis3)\n",
    "star_rref = starsympy.rref()[0]\n",
    "basis3_rref = basis3sympy.rref()[0]\n",
    "print(\"rank is \",rank)\n",
    "if(rank == basis3_rref.shape[0]):\n",
    "    dummy = star_rref[:rank, :] - basis3_rref\n",
    "    if (2 * dummy == dummy):\n",
    "        print(\"true\")\n",
    "    else:\n",
    "        print(\"false\")\n",
    "else:\n",
    "    print(\"Basis ranks are different\")"
   ]
  }
 ],
 "metadata": {
  "kernelspec": {
   "display_name": "Python 3.10.4 64-bit",
   "language": "python",
   "name": "python3"
  },
  "language_info": {
   "codemirror_mode": {
    "name": "ipython",
    "version": 3
   },
   "file_extension": ".py",
   "mimetype": "text/x-python",
   "name": "python",
   "nbconvert_exporter": "python",
   "pygments_lexer": "ipython3",
   "version": "3.8.10"
  },
  "orig_nbformat": 4,
  "vscode": {
   "interpreter": {
    "hash": "916dbcbb3f70747c44a77c7bcd40155683ae19c65e1c03b4aa3499c5328201f1"
   }
  }
 },
 "nbformat": 4,
 "nbformat_minor": 2
}
